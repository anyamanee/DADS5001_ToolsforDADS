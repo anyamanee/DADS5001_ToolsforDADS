{
 "cells": [
  {
   "cell_type": "code",
   "execution_count": 1,
   "id": "23ed2a72",
   "metadata": {},
   "outputs": [],
   "source": [
    "import os\n",
    "import glob\n",
    "import math \n",
    "import pandas as pd\n",
    "import numpy as np\n",
    "import plotly.express as px\n",
    "import matplotlib.pyplot as plt"
   ]
  },
  {
   "cell_type": "code",
   "execution_count": 2,
   "id": "01307497",
   "metadata": {
    "scrolled": true
   },
   "outputs": [
    {
     "name": "stderr",
     "output_type": "stream",
     "text": [
      "C:\\Users\\Anyamanee\\anaconda3\\lib\\site-packages\\IPython\\core\\interactiveshell.py:3165: DtypeWarning: Columns (4) have mixed types.Specify dtype option on import or set low_memory=False.\n",
      "  has_raised = await self.run_ast_nodes(code_ast.body, cell_name,\n"
     ]
    },
    {
     "name": "stdout",
     "output_type": "stream",
     "text": [
      "      No. announce_date Notified date   sex   age Unit nationality  \\\n",
      "0  816990     12/8/2021     11/8/2021   ชาย   7.0   ปี    Thailand   \n",
      "1  816991     12/8/2021     11/8/2021   ชาย   1.0   ปี    Thailand   \n",
      "2  816992     12/8/2021     11/8/2021   ชาย  35.0   ปี    Thailand   \n",
      "3  816993     12/8/2021     11/8/2021  หญิง  33.0   ปี    Thailand   \n",
      "4  816994     12/8/2021     11/8/2021  หญิง  14.0   ปี    Thailand   \n",
      "\n",
      "  province_of_isolation                                         risk  \\\n",
      "0              เชียงราย                                        อื่นๆ   \n",
      "1              เชียงราย                                        อื่นๆ   \n",
      "2              เชียงราย                                        อื่นๆ   \n",
      "3              เชียงราย                                        อื่นๆ   \n",
      "4              เชียงราย  สัมผัสใกล้ชิดกับผู้ป่วยยืนยันรายก่อนหน้านี้   \n",
      "\n",
      "  province_of_onset  \n",
      "0               NaN  \n",
      "1               NaN  \n",
      "2               NaN  \n",
      "3               NaN  \n",
      "4               NaN  \n",
      "(2459109, 10)\n"
     ]
    }
   ],
   "source": [
    "pathfile = \"D:/01_Git/DADS5001-Midterm/01_Data/\"\n",
    "from glob import glob\n",
    "pathData = [y for x in os.walk(pathfile) for y in glob(os.path.join(x[0], \"*.csv\"))]\n",
    "\n",
    "df = pd.DataFrame()\n",
    "for i in pathData:\n",
    "    temp = pd.read_csv(i)\n",
    "    df = df.append(temp)\n",
    "\n",
    "df = df.drop(columns=['Unnamed: 11', 'district_of_onset'])\n",
    "\n",
    "print(df.head())\n",
    "print(df.shape)\n",
    "df.to_csv(\"CovidData_120864_280265.csv\", encoding=\"utf_8_sig\")"
   ]
  },
  {
   "cell_type": "code",
   "execution_count": 3,
   "id": "2128b200",
   "metadata": {
    "scrolled": true
   },
   "outputs": [
    {
     "name": "stdout",
     "output_type": "stream",
     "text": [
      "No.                           0\n",
      "announce_date                 0\n",
      "Notified date                 0\n",
      "sex                      123967\n",
      "age                      190852\n",
      "Unit                     211168\n",
      "nationality              201518\n",
      "province_of_isolation      3684\n",
      "risk                         93\n",
      "province_of_onset        297403\n",
      "dtype: int64\n",
      "<class 'pandas.core.frame.DataFrame'>\n",
      "Int64Index: 2459109 entries, 0 to 406481\n",
      "Data columns (total 10 columns):\n",
      " #   Column                 Dtype \n",
      "---  ------                 ----- \n",
      " 0   No.                    int64 \n",
      " 1   announce_date          object\n",
      " 2   Notified date          object\n",
      " 3   sex                    object\n",
      " 4   age                    object\n",
      " 5   Unit                   object\n",
      " 6   nationality            object\n",
      " 7   province_of_isolation  object\n",
      " 8   risk                   object\n",
      " 9   province_of_onset      object\n",
      "dtypes: int64(1), object(9)\n",
      "memory usage: 206.4+ MB\n"
     ]
    }
   ],
   "source": [
    "result = df.isnull().sum()\n",
    "print(result)\n",
    "df.info()"
   ]
  },
  {
   "cell_type": "markdown",
   "id": "d988f9de",
   "metadata": {},
   "source": [
    "# Sex"
   ]
  },
  {
   "cell_type": "code",
   "execution_count": 4,
   "id": "2f90b0a3",
   "metadata": {},
   "outputs": [],
   "source": [
    "sex_unique = [x for x in set(df[\"sex\"])]\n",
    "for i in range(0,len(sex_unique)):\n",
    "    #print(sex_unique[i])\n",
    "    data_temp =str(sex_unique[i])\n",
    "    if (data_temp.startswith(\"ห\") == True) or (data_temp.startswith(\"ญ\") == True) or (data_temp.endswith(\"ง\") == True):\n",
    "        df['sex'] = df['sex'].replace(sex_unique[i],'หญิง')\n",
    "    elif data_temp.startswith(\"ช\") or data_temp.startswith(\"น\"):\n",
    "        df['sex'] = df['sex'].replace(sex_unique[i],'ชาย')\n",
    "    else:\n",
    "        df['sex'] = df['sex'].replace(sex_unique[i],np.nan)"
   ]
  },
  {
   "cell_type": "code",
   "execution_count": 5,
   "id": "cd337f6f",
   "metadata": {},
   "outputs": [],
   "source": [
    "df['sex'] = df['sex'].fillna(\"unknown\")"
   ]
  },
  {
   "cell_type": "code",
   "execution_count": 6,
   "id": "22b4cd16",
   "metadata": {},
   "outputs": [
    {
     "data": {
      "text/plain": [
       "['ชาย', 'unknown', 'หญิง']"
      ]
     },
     "execution_count": 6,
     "metadata": {},
     "output_type": "execute_result"
    }
   ],
   "source": [
    "sex_unique = [x for x in set(df[\"sex\"])]\n",
    "sex_unique"
   ]
  },
  {
   "cell_type": "markdown",
   "id": "a156e9f9",
   "metadata": {},
   "source": [
    "# DateTime"
   ]
  },
  {
   "cell_type": "code",
   "execution_count": 7,
   "id": "6174916a",
   "metadata": {
    "scrolled": false
   },
   "outputs": [
    {
     "name": "stderr",
     "output_type": "stream",
     "text": [
      "<ipython-input-7-69b6633e262a>:3: FutureWarning: Treating datetime data as categorical rather than numeric in `.describe` is deprecated and will be removed in a future version of pandas. Specify `datetime_is_numeric=True` to silence this warning and adopt the future behavior now.\n",
      "  df.loc[:,[\"announce_date\",\"Notified date\"]].describe()\n",
      "<ipython-input-7-69b6633e262a>:3: FutureWarning: Treating datetime data as categorical rather than numeric in `.describe` is deprecated and will be removed in a future version of pandas. Specify `datetime_is_numeric=True` to silence this warning and adopt the future behavior now.\n",
      "  df.loc[:,[\"announce_date\",\"Notified date\"]].describe()\n"
     ]
    },
    {
     "data": {
      "text/html": [
       "<div>\n",
       "<style scoped>\n",
       "    .dataframe tbody tr th:only-of-type {\n",
       "        vertical-align: middle;\n",
       "    }\n",
       "\n",
       "    .dataframe tbody tr th {\n",
       "        vertical-align: top;\n",
       "    }\n",
       "\n",
       "    .dataframe thead th {\n",
       "        text-align: right;\n",
       "    }\n",
       "</style>\n",
       "<table border=\"1\" class=\"dataframe\">\n",
       "  <thead>\n",
       "    <tr style=\"text-align: right;\">\n",
       "      <th></th>\n",
       "      <th>announce_date</th>\n",
       "      <th>Notified date</th>\n",
       "    </tr>\n",
       "  </thead>\n",
       "  <tbody>\n",
       "    <tr>\n",
       "      <th>count</th>\n",
       "      <td>2459109</td>\n",
       "      <td>2459109</td>\n",
       "    </tr>\n",
       "    <tr>\n",
       "      <th>unique</th>\n",
       "      <td>218</td>\n",
       "      <td>218</td>\n",
       "    </tr>\n",
       "    <tr>\n",
       "      <th>top</th>\n",
       "      <td>2022-02-26 00:00:00</td>\n",
       "      <td>2022-02-25 00:00:00</td>\n",
       "    </tr>\n",
       "    <tr>\n",
       "      <th>freq</th>\n",
       "      <td>25615</td>\n",
       "      <td>25615</td>\n",
       "    </tr>\n",
       "    <tr>\n",
       "      <th>first</th>\n",
       "      <td>2021-08-12 00:00:00</td>\n",
       "      <td>2021-08-11 00:00:00</td>\n",
       "    </tr>\n",
       "    <tr>\n",
       "      <th>last</th>\n",
       "      <td>2022-03-17 00:00:00</td>\n",
       "      <td>2022-03-16 00:00:00</td>\n",
       "    </tr>\n",
       "  </tbody>\n",
       "</table>\n",
       "</div>"
      ],
      "text/plain": [
       "              announce_date        Notified date\n",
       "count               2459109              2459109\n",
       "unique                  218                  218\n",
       "top     2022-02-26 00:00:00  2022-02-25 00:00:00\n",
       "freq                  25615                25615\n",
       "first   2021-08-12 00:00:00  2021-08-11 00:00:00\n",
       "last    2022-03-17 00:00:00  2022-03-16 00:00:00"
      ]
     },
     "execution_count": 7,
     "metadata": {},
     "output_type": "execute_result"
    }
   ],
   "source": [
    "df[\"announce_date\"] =  pd.to_datetime(df[\"announce_date\"], dayfirst = True)\n",
    "df[\"Notified date\"] =  pd.to_datetime(df[\"Notified date\"], dayfirst = True)\n",
    "df.loc[:,[\"announce_date\",\"Notified date\"]].describe()"
   ]
  },
  {
   "cell_type": "code",
   "execution_count": 8,
   "id": "c3e094c0",
   "metadata": {
    "scrolled": true
   },
   "outputs": [
    {
     "name": "stdout",
     "output_type": "stream",
     "text": [
      "count    2.459109e+06\n",
      "mean     1.000002e+00\n",
      "std      2.209030e-03\n",
      "min     -1.000000e+00\n",
      "25%      1.000000e+00\n",
      "50%      1.000000e+00\n",
      "75%      1.000000e+00\n",
      "max      2.000000e+00\n",
      "Name: diff_Date, dtype: float64 \n",
      " (2459109, 11)\n"
     ]
    },
    {
     "data": {
      "text/plain": [
       "(2459108, 11)"
      ]
     },
     "execution_count": 8,
     "metadata": {},
     "output_type": "execute_result"
    }
   ],
   "source": [
    "df['diff_Date'] = (df['announce_date'] - df['Notified date']).dt.days\n",
    "print(df['diff_Date'].describe(),'\\n',df.shape)\n",
    "df= df.loc[df['diff_Date']>=0]\n",
    "df.shape"
   ]
  },
  {
   "cell_type": "markdown",
   "id": "69d2fa51",
   "metadata": {},
   "source": [
    "# Age and Unit"
   ]
  },
  {
   "cell_type": "code",
   "execution_count": 9,
   "id": "c6d3c314",
   "metadata": {
    "scrolled": true
   },
   "outputs": [
    {
     "name": "stdout",
     "output_type": "stream",
     "text": [
      "{nan, 'ปี', 'วัน', 'เดือน'}\n",
      "(2247940, 11)\n",
      "{'เดือน', 'ปี', 'วัน'}\n"
     ]
    }
   ],
   "source": [
    "print(set(df[\"Unit\"]))\n",
    "#df = df[df.Unit != \"Unknown\"]\n",
    "df = df.dropna(subset=['Unit'])\n",
    "print(df.shape)\n",
    "print(set(df[\"Unit\"]))"
   ]
  },
  {
   "cell_type": "code",
   "execution_count": 10,
   "id": "4d7755d2",
   "metadata": {
    "scrolled": false
   },
   "outputs": [],
   "source": [
    "df['age'] = df['age'].replace(\"35/11\",np.nan)\n",
    "df['age'] = df['age'].astype(float).apply(np.floor)\n",
    "df['age'] = df['age'].fillna(np.nan)\n",
    "\n",
    "df[\"Unit\"] = df[\"Unit\"].astype(\"category\")"
   ]
  },
  {
   "cell_type": "code",
   "execution_count": 11,
   "id": "eecc449e",
   "metadata": {},
   "outputs": [],
   "source": [
    "df[\"Unit\"] = df[\"Unit\"].astype(\"category\")"
   ]
  },
  {
   "cell_type": "code",
   "execution_count": 12,
   "id": "467c387e",
   "metadata": {
    "scrolled": true
   },
   "outputs": [
    {
     "name": "stderr",
     "output_type": "stream",
     "text": [
      "<ipython-input-12-32cc21cbd424>:9: SettingWithCopyWarning: \n",
      "A value is trying to be set on a copy of a slice from a DataFrame.\n",
      "Try using .loc[row_indexer,col_indexer] = value instead\n",
      "\n",
      "See the caveats in the documentation: https://pandas.pydata.org/pandas-docs/stable/user_guide/indexing.html#returning-a-view-versus-a-copy\n",
      "  datatemp[\"agerange\"] = \"<1\"\n",
      "<ipython-input-12-32cc21cbd424>:7: SettingWithCopyWarning: \n",
      "A value is trying to be set on a copy of a slice from a DataFrame.\n",
      "Try using .loc[row_indexer,col_indexer] = value instead\n",
      "\n",
      "See the caveats in the documentation: https://pandas.pydata.org/pandas-docs/stable/user_guide/indexing.html#returning-a-view-versus-a-copy\n",
      "  datatemp[\"agerange\"] = pd.cut(datatemp['age'],bins, labels = labels, right=False)\n"
     ]
    },
    {
     "name": "stdout",
     "output_type": "stream",
     "text": [
      "(2247940, 12)\n",
      "(2247940, 11)\n"
     ]
    }
   ],
   "source": [
    "bins = [1, 10, 20, 30, 40, 50, 60, 70, 160]\n",
    "labels = ['1-9','10-19','20-29', '30-39', '40-49', '50-59', '60-69', '70+']\n",
    "df_new = pd.DataFrame()\n",
    "for x in list(set(df[\"Unit\"])):\n",
    "    datatemp= df[df['Unit']==x]\n",
    "    if x == \"ปี\":\n",
    "        datatemp[\"agerange\"] = pd.cut(datatemp['age'],bins, labels = labels, right=False)\n",
    "    else:\n",
    "        datatemp[\"agerange\"] = \"<1\"\n",
    "    df_new = df_new.append(datatemp)\n",
    "print(df_new.shape)\n",
    "print(df.shape)\n",
    "\n",
    "df = df_new"
   ]
  },
  {
   "cell_type": "code",
   "execution_count": 13,
   "id": "1fa41e8e",
   "metadata": {
    "scrolled": false
   },
   "outputs": [
    {
     "name": "stdout",
     "output_type": "stream",
     "text": [
      "No.                           0\n",
      "announce_date                 0\n",
      "Notified date                 0\n",
      "sex                           0\n",
      "age                        2263\n",
      "Unit                          0\n",
      "nationality              165727\n",
      "province_of_isolation      3320\n",
      "risk                         67\n",
      "province_of_onset        206858\n",
      "diff_Date                     0\n",
      "agerange                   2263\n",
      "dtype: int64\n"
     ]
    }
   ],
   "source": [
    "result = df.isnull().sum()\n",
    "print(result)"
   ]
  },
  {
   "cell_type": "markdown",
   "id": "a6c81a35",
   "metadata": {},
   "source": [
    "# Risk"
   ]
  },
  {
   "cell_type": "code",
   "execution_count": 14,
   "id": "7c5322bd",
   "metadata": {
    "scrolled": false
   },
   "outputs": [],
   "source": [
    "data = pd.read_csv('D:\\\\01_Git\\\\DADS5001-Midterm\\\\02_DataClean\\\\risk.csv')\n",
    "risk_list = data[\"Ori\"]\n",
    "list1 = data[\"Data1\"]"
   ]
  },
  {
   "cell_type": "code",
   "execution_count": 15,
   "id": "556c607a",
   "metadata": {
    "scrolled": true
   },
   "outputs": [],
   "source": [
    "for i in range(0,len(risk_list)):\n",
    "    #print(risk_list[i])\n",
    "    data_temp =str(risk_list[i])\n",
    "    if data_temp.startswith(data_temp) == True:\n",
    "        df['risk'] = df['risk'].replace(risk_list[i],list1[i])\n",
    "    else:\n",
    "        df['risk'] = df['risk'].replace(risk_list[i],np.nan)"
   ]
  },
  {
   "cell_type": "code",
   "execution_count": 16,
   "id": "48a4f0a5",
   "metadata": {
    "scrolled": true
   },
   "outputs": [
    {
     "data": {
      "text/plain": [
       "(2247940, 12)"
      ]
     },
     "execution_count": 16,
     "metadata": {},
     "output_type": "execute_result"
    }
   ],
   "source": [
    "df.shape"
   ]
  },
  {
   "cell_type": "markdown",
   "id": "c75bd32b",
   "metadata": {},
   "source": [
    "# Nationality"
   ]
  },
  {
   "cell_type": "code",
   "execution_count": 17,
   "id": "b57af9cd",
   "metadata": {
    "scrolled": true
   },
   "outputs": [],
   "source": [
    "data2 = pd.read_csv('D:\\\\01_Git\\\\DADS5001-Midterm\\\\02_DataClean\\\\nationality.csv')\n",
    "nationality_list = data2[\"Ori\"]\n",
    "list2 = data2[\"Data2\"]"
   ]
  },
  {
   "cell_type": "code",
   "execution_count": 18,
   "id": "a026f269",
   "metadata": {
    "scrolled": true
   },
   "outputs": [],
   "source": [
    "for i in range(0,len(nationality_list)):\n",
    "    #print(nationality_list[i])\n",
    "    data_temp =str(nationality_list[i])\n",
    "    if data_temp.startswith(data_temp) == True:\n",
    "        df['nationality'] = df['nationality'].replace(nationality_list[i],list2[i])\n",
    "    else:\n",
    "        df['nationality'] = df['nationality'].replace(nationality_list[i],np.nan)"
   ]
  },
  {
   "cell_type": "code",
   "execution_count": 19,
   "id": "bd958dd0",
   "metadata": {
    "scrolled": false
   },
   "outputs": [
    {
     "data": {
      "text/plain": [
       "(2247940, 12)"
      ]
     },
     "execution_count": 19,
     "metadata": {},
     "output_type": "execute_result"
    }
   ],
   "source": [
    "df.shape"
   ]
  },
  {
   "cell_type": "markdown",
   "id": "00889109",
   "metadata": {},
   "source": [
    "# province_of_isolation"
   ]
  },
  {
   "cell_type": "code",
   "execution_count": 20,
   "id": "127117d6",
   "metadata": {},
   "outputs": [],
   "source": [
    "data3 = pd.read_csv('D:\\\\01_Git\\\\DADS5001-Midterm\\\\02_DataClean\\\\province_of_isolation.csv')\n",
    "province_of_isolation_list = data3[\"DataOri\"]\n",
    "list3 = data3[\"DataClean\"]"
   ]
  },
  {
   "cell_type": "code",
   "execution_count": 21,
   "id": "f54e4c99",
   "metadata": {},
   "outputs": [],
   "source": [
    "for i in range(0,len(province_of_isolation_list)):\n",
    "    #print(nationality_list[i])\n",
    "    data_temp =str(province_of_isolation_list[i])\n",
    "    if data_temp.startswith(data_temp) == True:\n",
    "        df['province_of_isolation'] = df['province_of_isolation'].replace(province_of_isolation_list[i],list3[i])\n",
    "    else:\n",
    "        df['province_of_isolation'] = df['province_of_isolation'].replace(province_of_isolation_list[i],np.nan)"
   ]
  },
  {
   "cell_type": "code",
   "execution_count": 22,
   "id": "a7ef0b7f",
   "metadata": {},
   "outputs": [
    {
     "data": {
      "text/plain": [
       "(2247940, 12)"
      ]
     },
     "execution_count": 22,
     "metadata": {},
     "output_type": "execute_result"
    }
   ],
   "source": [
    "df.shape"
   ]
  },
  {
   "cell_type": "markdown",
   "id": "5832f131",
   "metadata": {},
   "source": [
    "# province_of_onset"
   ]
  },
  {
   "cell_type": "code",
   "execution_count": 23,
   "id": "2024012f",
   "metadata": {
    "scrolled": false
   },
   "outputs": [],
   "source": [
    "province_of_onset_list = [x for x in set(df[\"province_of_onset\"])]\n",
    "\n",
    "data4 = pd.read_csv('D:\\\\01_Git\\\\DADS5001-Midterm\\\\02_DataClean\\\\province_of_onset.csv')\n",
    "province_of_onset_list = data4[\"DataOri\"]\n",
    "list4 = data4[\"DataClean\"]"
   ]
  },
  {
   "cell_type": "code",
   "execution_count": 24,
   "id": "edebdb5c",
   "metadata": {},
   "outputs": [],
   "source": [
    "for i in range(0,len(province_of_onset_list)):\n",
    "    #print(nationality_list[i])\n",
    "    data_temp =str(province_of_onset_list[i])\n",
    "    if data_temp.startswith(data_temp) == True:\n",
    "        df['province_of_onset'] = df['province_of_onset'].replace(province_of_onset_list[i],list4[i])\n",
    "    else:\n",
    "        df['province_of_onset'] = df['province_of_onset'].replace(province_of_onset_list[i],np.nan)"
   ]
  },
  {
   "cell_type": "code",
   "execution_count": 25,
   "id": "b04b3aad",
   "metadata": {},
   "outputs": [
    {
     "data": {
      "text/plain": [
       "(2247940, 12)"
      ]
     },
     "execution_count": 25,
     "metadata": {},
     "output_type": "execute_result"
    }
   ],
   "source": [
    "df.shape"
   ]
  },
  {
   "cell_type": "code",
   "execution_count": 28,
   "id": "232b5d2a",
   "metadata": {},
   "outputs": [],
   "source": [
    "df.to_csv(\"CovidData_120864_280265_Cleaned.csv\", encoding=\"utf_8_sig\", index = False)"
   ]
  },
  {
   "cell_type": "code",
   "execution_count": 27,
   "id": "ac888443",
   "metadata": {},
   "outputs": [
    {
     "name": "stdout",
     "output_type": "stream",
     "text": [
      "<class 'pandas.core.frame.DataFrame'>\n",
      "Int64Index: 2247940 entries, 110 to 402074\n",
      "Data columns (total 12 columns):\n",
      " #   Column                 Dtype         \n",
      "---  ------                 -----         \n",
      " 0   No.                    int64         \n",
      " 1   announce_date          datetime64[ns]\n",
      " 2   Notified date          datetime64[ns]\n",
      " 3   sex                    object        \n",
      " 4   age                    float64       \n",
      " 5   Unit                   category      \n",
      " 6   nationality            object        \n",
      " 7   province_of_isolation  object        \n",
      " 8   risk                   object        \n",
      " 9   province_of_onset      object        \n",
      " 10  diff_Date              int64         \n",
      " 11  agerange               object        \n",
      "dtypes: category(1), datetime64[ns](2), float64(1), int64(2), object(6)\n",
      "memory usage: 207.9+ MB\n"
     ]
    }
   ],
   "source": [
    "df.info()"
   ]
  },
  {
   "cell_type": "code",
   "execution_count": null,
   "id": "b48999b7",
   "metadata": {},
   "outputs": [],
   "source": []
  }
 ],
 "metadata": {
  "kernelspec": {
   "display_name": "Python 3",
   "language": "python",
   "name": "python3"
  },
  "language_info": {
   "codemirror_mode": {
    "name": "ipython",
    "version": 3
   },
   "file_extension": ".py",
   "mimetype": "text/x-python",
   "name": "python",
   "nbconvert_exporter": "python",
   "pygments_lexer": "ipython3",
   "version": "3.8.8"
  }
 },
 "nbformat": 4,
 "nbformat_minor": 5
}
